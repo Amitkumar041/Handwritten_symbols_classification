{
 "cells": [
  {
   "cell_type": "code",
   "execution_count": 1,
   "id": "5bf94281",
   "metadata": {},
   "outputs": [],
   "source": [
    "\n",
    "from keras.callbacks import EarlyStopping\n",
    "from keras.layers import Dense, Conv2D,  MaxPool2D, Flatten, GlobalAveragePooling2D,  BatchNormalization, Layer, Add\n",
    "from keras.models import Sequential\n",
    "from keras.models import Model\n",
    "from keras.preprocessing.image import ImageDataGenerator\n",
    "import tensorflow as tf"
   ]
  },
  {
   "cell_type": "code",
   "execution_count": 2,
   "id": "777dbe78",
   "metadata": {},
   "outputs": [
    {
     "name": "stdout",
     "output_type": "stream",
     "text": [
      "Num GPUs Available 1\n",
      "2.10.1\n"
     ]
    }
   ],
   "source": [
    "print(\"Num GPUs Available\", len(tf.config.experimental.list_physical_devices('GPU')))\n",
    "tf.test.is_built_with_cuda()\n",
    "print(tf.version.VERSION)"
   ]
  },
  {
   "cell_type": "code",
   "execution_count": 3,
   "id": "8e3799ec",
   "metadata": {},
   "outputs": [],
   "source": [
    "class ResnetBlock(Model):\n",
    "    \"\"\"\n",
    "    A standard resnet block.\n",
    "    \"\"\"\n",
    "\n",
    "    def __init__(self, channels: int, down_sample=False):\n",
    "        \"\"\"\n",
    "        channels: same as number of convolution kernels\n",
    "        \"\"\"\n",
    "        super().__init__()\n",
    "\n",
    "        self.__channels = channels\n",
    "        self.__down_sample = down_sample\n",
    "        self.__strides = [2, 1] if down_sample else [1, 1]\n",
    "\n",
    "        KERNEL_SIZE = (3, 3)\n",
    "        # use He initialization, instead of Xavier (a.k.a 'glorot_uniform' in Keras), as suggested in [2]\n",
    "        INIT_SCHEME = \"he_normal\"\n",
    "\n",
    "        self.conv_1 = Conv2D(self.__channels, strides=self.__strides[0],\n",
    "                             kernel_size=KERNEL_SIZE, padding=\"same\", kernel_initializer=INIT_SCHEME)\n",
    "        self.bn_1 = BatchNormalization()\n",
    "        self.conv_2 = Conv2D(self.__channels, strides=self.__strides[1],\n",
    "                             kernel_size=KERNEL_SIZE, padding=\"same\", kernel_initializer=INIT_SCHEME)\n",
    "        self.bn_2 = BatchNormalization()\n",
    "        self.merge = Add()\n",
    "\n",
    "        if self.__down_sample:\n",
    "            # perform down sampling using stride of 2, according to [1].\n",
    "            self.res_conv = Conv2D(\n",
    "                self.__channels, strides=2, kernel_size=(1, 1), kernel_initializer=INIT_SCHEME, padding=\"same\")\n",
    "            self.res_bn = BatchNormalization()\n",
    "\n",
    "    def call(self, inputs):\n",
    "        res = inputs\n",
    "\n",
    "        x = self.conv_1(inputs)\n",
    "        x = self.bn_1(x)\n",
    "        x = tf.nn.relu(x)\n",
    "        x = self.conv_2(x)\n",
    "        x = self.bn_2(x)\n",
    "\n",
    "        if self.__down_sample:\n",
    "            res = self.res_conv(res)\n",
    "            res = self.res_bn(res)\n",
    "\n",
    "        # if not perform down sample, then add a shortcut directly\n",
    "        x = self.merge([x, res])\n",
    "        out = tf.nn.relu(x)\n",
    "        return out\n",
    "\n",
    "\n",
    "class ResNet18(Model):\n",
    "\n",
    "    def __init__(self, num_classes, **kwargs):\n",
    "        \"\"\"\n",
    "            num_classes: number of classes in specific classification task.\n",
    "        \"\"\"\n",
    "        super().__init__(**kwargs)\n",
    "        self.conv_1 = Conv2D(64, (7, 7), strides=2,\n",
    "                             padding=\"same\", kernel_initializer=\"he_normal\")\n",
    "        self.init_bn = BatchNormalization()\n",
    "        self.pool_2 = MaxPool2D(pool_size=(2, 2), strides=2, padding=\"same\")\n",
    "        self.res_1_1 = ResnetBlock(64)\n",
    "        self.res_1_2 = ResnetBlock(64)\n",
    "        self.res_2_1 = ResnetBlock(128, down_sample=True)\n",
    "        self.res_2_2 = ResnetBlock(128)\n",
    "        self.res_3_1 = ResnetBlock(256, down_sample=True)\n",
    "        self.res_3_2 = ResnetBlock(256)\n",
    "        self.res_4_1 = ResnetBlock(512, down_sample=True)\n",
    "        self.res_4_2 = ResnetBlock(512)\n",
    "        self.avg_pool = GlobalAveragePooling2D()\n",
    "        self.flat = Flatten()\n",
    "        self.fc = Dense(num_classes, activation=\"softmax\")\n",
    "\n",
    "    def call(self, inputs):\n",
    "        out = self.conv_1(inputs)\n",
    "        out = self.init_bn(out)\n",
    "        out = tf.nn.relu(out)\n",
    "        out = self.pool_2(out)\n",
    "        for res_block in [self.res_1_1, self.res_1_2, self.res_2_1, self.res_2_2, self.res_3_1, self.res_3_2, self.res_4_1, self.res_4_2]:\n",
    "            out = res_block(out)\n",
    "        out = self.avg_pool(out)\n",
    "        out = self.flat(out)\n",
    "        out = self.fc(out)\n",
    "        return out"
   ]
  },
  {
   "cell_type": "code",
   "execution_count": 8,
   "id": "1baafb54",
   "metadata": {},
   "outputs": [
    {
     "name": "stdout",
     "output_type": "stream",
     "text": [
      "Model: \"res_net18_1\"\n",
      "_________________________________________________________________\n",
      " Layer (type)                Output Shape              Param #   \n",
      "=================================================================\n",
      " conv2d_20 (Conv2D)          multiple                  9472      \n",
      "                                                                 \n",
      " batch_normalization_20 (Bat  multiple                 256       \n",
      " chNormalization)                                                \n",
      "                                                                 \n",
      " max_pooling2d_1 (MaxPooling  multiple                 0         \n",
      " 2D)                                                             \n",
      "                                                                 \n",
      " resnet_block_8 (ResnetBlock  multiple                 74368     \n",
      " )                                                               \n",
      "                                                                 \n",
      " resnet_block_9 (ResnetBlock  multiple                 74368     \n",
      " )                                                               \n",
      "                                                                 \n",
      " resnet_block_10 (ResnetBloc  multiple                 231296    \n",
      " k)                                                              \n",
      "                                                                 \n",
      " resnet_block_11 (ResnetBloc  multiple                 296192    \n",
      " k)                                                              \n",
      "                                                                 \n",
      " resnet_block_12 (ResnetBloc  multiple                 921344    \n",
      " k)                                                              \n",
      "                                                                 \n",
      " resnet_block_13 (ResnetBloc  multiple                 1182208   \n",
      " k)                                                              \n",
      "                                                                 \n",
      " resnet_block_14 (ResnetBloc  multiple                 3677696   \n",
      " k)                                                              \n",
      "                                                                 \n",
      " resnet_block_15 (ResnetBloc  multiple                 4723712   \n",
      " k)                                                              \n",
      "                                                                 \n",
      " global_average_pooling2d_1   multiple                 0         \n",
      " (GlobalAveragePooling2D)                                        \n",
      "                                                                 \n",
      " flatten_1 (Flatten)         multiple                  0         \n",
      "                                                                 \n",
      " dense_1 (Dense)             multiple                  5130      \n",
      "                                                                 \n",
      "=================================================================\n",
      "Total params: 11,196,042\n",
      "Trainable params: 11,186,442\n",
      "Non-trainable params: 9,600\n",
      "_________________________________________________________________\n"
     ]
    }
   ],
   "source": [
    "model = ResNet18(10)\n",
    "model.build(input_shape = (None,100,100,3))\n",
    "#use categorical_crossentropy since the label is one-hot encoded\n",
    "from keras.optimizers import SGD\n",
    "#model.load_weights('./saved_model/Resnet_18')\n",
    "# opt = SGD(learning_rate=0.1,momentum=0.9,decay = 1e-04) #parameters suggested by He [1]\n",
    "model.compile(optimizer = \"adam\",loss='categorical_crossentropy', metrics=[\"accuracy\"]) \n",
    "model.summary()"
   ]
  },
  {
   "cell_type": "code",
   "execution_count": 9,
   "id": "2e91b5da",
   "metadata": {},
   "outputs": [
    {
     "name": "stdout",
     "output_type": "stream",
     "text": [
      "Found 6180 images belonging to 10 classes.\n",
      "Found 2640 images belonging to 10 classes.\n"
     ]
    }
   ],
   "source": [
    "train_dir = \"Dataset\"\n",
    "train_datagen = ImageDataGenerator(validation_split = 0.3)\n",
    "#test_datagen = ImagedDataGenerator(1./255)\n",
    "\n",
    "train_data = train_datagen.flow_from_directory(directory = train_dir, \n",
    "                                               target_size = (100,100),\n",
    "                                               batch_size = 24,\n",
    "                                               subset='training')\n",
    "test_data = train_datagen.flow_from_directory(directory = train_dir, \n",
    "                                              target_size = (100,100),\n",
    "                                              batch_size = 24,\n",
    "                                              subset='validation')"
   ]
  },
  {
   "cell_type": "code",
   "execution_count": 12,
   "id": "d4f96877",
   "metadata": {},
   "outputs": [],
   "source": [
    "from keras.callbacks import ModelCheckpoint, EarlyStopping\n",
    "\n",
    "\"\"\"mc = ModelCheckpoint(filepath=\"./best_res_model.h5\",\n",
    "                     monitor = \"val_accuracy\",\n",
    "                     verbose = 1,\n",
    "                     save_best_only = \"True\")\n",
    "\"\"\"\n",
    "es = EarlyStopping(monitor = \"val_accuracy\",\n",
    "                   min_delta = 0.01,\n",
    "                   patience = 10,\n",
    "                   verbose = 1)\n",
    "cb = [es]"
   ]
  },
  {
   "cell_type": "code",
   "execution_count": 14,
   "id": "15376fca",
   "metadata": {},
   "outputs": [
    {
     "name": "stdout",
     "output_type": "stream",
     "text": [
      "Epoch 1/100\n"
     ]
    },
    {
     "name": "stderr",
     "output_type": "stream",
     "text": [
      "C:\\Users\\amitp\\AppData\\Local\\Temp\\ipykernel_20260\\3512904826.py:1: UserWarning: `Model.fit_generator` is deprecated and will be removed in a future version. Please use `Model.fit`, which supports generators.\n",
      "  his = model.fit_generator(train_data,steps_per_epoch = 12 , epochs=100, validation_data= test_data, callbacks = cb)\n"
     ]
    },
    {
     "name": "stdout",
     "output_type": "stream",
     "text": [
      "12/12 [==============================] - 16s 1s/step - loss: 0.3977 - accuracy: 0.8854 - val_loss: 1.1783 - val_accuracy: 0.6977\n",
      "Epoch 2/100\n",
      "12/12 [==============================] - 16s 1s/step - loss: 0.3752 - accuracy: 0.8854 - val_loss: 0.7344 - val_accuracy: 0.7792\n",
      "Epoch 3/100\n",
      "12/12 [==============================] - 16s 1s/step - loss: 0.2771 - accuracy: 0.9236 - val_loss: 0.4636 - val_accuracy: 0.8553\n",
      "Epoch 4/100\n",
      "12/12 [==============================] - 16s 1s/step - loss: 0.2176 - accuracy: 0.9306 - val_loss: 0.4522 - val_accuracy: 0.8701\n",
      "Epoch 5/100\n",
      "12/12 [==============================] - 16s 1s/step - loss: 0.2596 - accuracy: 0.8993 - val_loss: 0.6078 - val_accuracy: 0.8409\n",
      "Epoch 6/100\n",
      "12/12 [==============================] - 16s 1s/step - loss: 0.2759 - accuracy: 0.8993 - val_loss: 1.0398 - val_accuracy: 0.7193\n",
      "Epoch 7/100\n",
      "12/12 [==============================] - 16s 1s/step - loss: 0.2868 - accuracy: 0.8889 - val_loss: 0.5887 - val_accuracy: 0.8193\n",
      "Epoch 8/100\n",
      "12/12 [==============================] - 16s 1s/step - loss: 0.3791 - accuracy: 0.8889 - val_loss: 0.6625 - val_accuracy: 0.8061\n",
      "Epoch 9/100\n",
      "12/12 [==============================] - 16s 1s/step - loss: 0.3051 - accuracy: 0.8819 - val_loss: 1.7624 - val_accuracy: 0.6155\n",
      "Epoch 10/100\n",
      "12/12 [==============================] - 16s 1s/step - loss: 0.3376 - accuracy: 0.8785 - val_loss: 1.0838 - val_accuracy: 0.7186\n",
      "Epoch 11/100\n",
      "12/12 [==============================] - 16s 1s/step - loss: 0.3781 - accuracy: 0.8785 - val_loss: 1.4938 - val_accuracy: 0.6455\n",
      "Epoch 12/100\n",
      "12/12 [==============================] - 16s 1s/step - loss: 0.2757 - accuracy: 0.9062 - val_loss: 1.0370 - val_accuracy: 0.7402\n",
      "Epoch 13/100\n",
      "12/12 [==============================] - 16s 1s/step - loss: 0.3008 - accuracy: 0.9028 - val_loss: 0.9910 - val_accuracy: 0.7242\n",
      "Epoch 14/100\n",
      "12/12 [==============================] - 16s 1s/step - loss: 0.2780 - accuracy: 0.9132 - val_loss: 1.7241 - val_accuracy: 0.6439\n",
      "Epoch 14: early stopping\n"
     ]
    }
   ],
   "source": [
    "\n",
    "his = model.fit_generator(train_data,steps_per_epoch = 12 , epochs=100, validation_data= test_data, callbacks = cb)\n",
    "model.save_weights('./saved_model/Resnet_18')"
   ]
  }
 ],
 "metadata": {
  "kernelspec": {
   "display_name": "Python 3 (ipykernel)",
   "language": "python",
   "name": "python3"
  },
  "language_info": {
   "codemirror_mode": {
    "name": "ipython",
    "version": 3
   },
   "file_extension": ".py",
   "mimetype": "text/x-python",
   "name": "python",
   "nbconvert_exporter": "python",
   "pygments_lexer": "ipython3",
   "version": "3.9.15"
  }
 },
 "nbformat": 4,
 "nbformat_minor": 5
}
