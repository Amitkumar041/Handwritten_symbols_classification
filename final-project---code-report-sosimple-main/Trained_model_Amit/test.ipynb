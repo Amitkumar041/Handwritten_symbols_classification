{
 "cells": [
  {
   "cell_type": "code",
   "execution_count": null,
   "id": "1dd06a0f",
   "metadata": {},
   "outputs": [],
   "source": [
    "import numpy as np\n",
    "from keras.models import load_model\n",
    "from keras.preprocessing import image\n",
    "import tensorflow as tf\n",
    "from tensorflow.keras.utils import load_img,img_to_array\n",
    "import os\n",
    "import matplotlib.pyplot as plt\n",
    "from keras.preprocessing.image import ImageDataGenerator\n",
    "from sklearn.metrics import accuracy_score\n",
    "import sklearn"
   ]
  },
  {
   "cell_type": "code",
   "execution_count": null,
   "id": "98211a18",
   "metadata": {},
   "outputs": [],
   "source": [
    "def predictionHRMS(filename):\n",
    "    # load model from the training file\n",
    "    model = load_model(os.getcwd()+'/train_model.h5')\n",
    "    \n",
    "    #loads image from the provided file loaction\n",
    "    test_image = load_img(filename, target_size = (100, 100))\n",
    "    \n",
    "    #converts the image into as array\n",
    "    test_image = img_to_array(test_image)\n",
    "    test_image = np.expand_dims(test_image, axis = 0)\n",
    "    # Predicts a probability for class of image and then gives the index of highest probablity as predicted class in float format\n",
    "    \n",
    "    result = float(np.argmax(model.predict(test_image)))\n",
    "    return result\n",
    "\n",
    "## Convert to image for all test data input\n",
    "def class_convert_to_image(X, t):\n",
    "\n",
    "        #Number of samples in class label\n",
    "        N = len(t)\n",
    "        \n",
    "        #get path of current directory\n",
    "        cwd = os.getcwd()\n",
    "        if os.path.exists(cwd+'/sosimple_test_data') == False :\n",
    "            \n",
    "            # create a directory as given path and of given name\n",
    "            os.mkdir(cwd+'/sosimple_test_data')\n",
    "            \n",
    "        for i in range(N):\n",
    "            imgname = str(i)\n",
    "            if os.path.exists(cwd+'/sosimple_test_data/'+imgname.rjust(5, '0')+\".png\") == False :\n",
    "                \n",
    "                # Converts the array into images and saves them into given file where each image is named sequencially as they \n",
    "                # are obatined from the array file into .png format\n",
    "                save_path = os.path.join(cwd+'/sosimple_test_data/'+imgname.rjust(5, '0')+\".png\")\n",
    "                plt.imsave(save_path,X[:,i].reshape(300,300), cmap='gray')\n"
   ]
  },
  {
   "cell_type": "code",
   "execution_count": null,
   "id": "101796fa",
   "metadata": {},
   "outputs": [],
   "source": [
    "# test function where the input parameters are the Image_data.npy dataset and labe_data.npy datset not the path of the file \n",
    "# This fucntion have to ouputs one is an array of predicted classes for each image and seconf is the accuracy of these predicted images\n",
    "\n",
    "\n",
    "def test(test_dataset,label_data):\n",
    "    Img = test_dataset\n",
    "    label = label_data\n",
    "    \n",
    "    # Funcction that converts array file into image files\n",
    "    class_convert_to_image(Img, label)\n",
    "    \n",
    "    # Gets the path of the file were the images are saved after conversion\n",
    "    path = os.getcwd()+'/sosimple_test_data/'\n",
    "    pred = []\n",
    "    for filename in os.listdir(path):\n",
    "        print(filename)\n",
    "        # function that predicts the class of the given image\n",
    "        output = predictionHRMS(path+str(filename))\n",
    "        pred.append(output)\n",
    "    \n",
    "    # Gives the accuracy of the images corresponding to there labels\n",
    "    accuracy = sklearn.metrics.accuracy_score(label,pred)\n",
    "    return pred,accuracy    \n",
    "    \n",
    "    "
   ]
  },
  {
   "cell_type": "code",
   "execution_count": null,
   "id": "004bd4fd",
   "metadata": {},
   "outputs": [],
   "source": [
    "result, ac = test(test_data,label_data)"
   ]
  },
  {
   "cell_type": "code",
   "execution_count": null,
   "id": "77dc3700",
   "metadata": {},
   "outputs": [],
   "source": []
  },
  {
   "cell_type": "code",
   "execution_count": null,
   "id": "2fcda3fe",
   "metadata": {},
   "outputs": [],
   "source": [
    "print(result)\n",
    "print(ac)"
   ]
  }
 ],
 "metadata": {
  "kernelspec": {
   "display_name": "Python 3 (ipykernel)",
   "language": "python",
   "name": "python3"
  },
  "language_info": {
   "codemirror_mode": {
    "name": "ipython",
    "version": 3
   },
   "file_extension": ".py",
   "mimetype": "text/x-python",
   "name": "python",
   "nbconvert_exporter": "python",
   "pygments_lexer": "ipython3",
   "version": "3.9.15"
  }
 },
 "nbformat": 4,
 "nbformat_minor": 5
}
