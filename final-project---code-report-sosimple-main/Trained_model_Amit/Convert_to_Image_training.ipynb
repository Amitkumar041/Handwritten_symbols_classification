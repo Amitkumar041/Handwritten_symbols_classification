{
 "cells": [
  {
   "cell_type": "code",
   "execution_count": 62,
   "id": "55b673cc",
   "metadata": {},
   "outputs": [],
   "source": [
    "import numpy as np\n",
    "import numpy.random as npr\n",
    "import matplotlib.pyplot as plt\n",
    "%matplotlib inline\n",
    "plt.style.use('bmh')\n",
    "from PIL import Image as im\n",
    "import cv2\n",
    "from sklearn.model_selection import train_test_split"
   ]
  },
  {
   "cell_type": "code",
   "execution_count": 78,
   "id": "204e2781",
   "metadata": {},
   "outputs": [
    {
     "name": "stdout",
     "output_type": "stream",
     "text": [
      "Collecting pandas\n",
      "  Downloading pandas-1.5.2-cp39-cp39-win_amd64.whl (10.9 MB)\n",
      "     --------------------------------------- 10.9/10.9 MB 16.0 MB/s eta 0:00:00\n",
      "Requirement already satisfied: numpy>=1.20.3 in c:\\users\\amitp\\anaconda3\\envs\\gputest\\lib\\site-packages (from pandas) (1.23.5)\n",
      "Collecting pytz>=2020.1\n",
      "  Downloading pytz-2022.6-py2.py3-none-any.whl (498 kB)\n",
      "     ------------------------------------- 498.1/498.1 kB 10.4 MB/s eta 0:00:00\n",
      "Requirement already satisfied: python-dateutil>=2.8.1 in c:\\users\\amitp\\anaconda3\\envs\\gputest\\lib\\site-packages (from pandas) (2.8.2)\n",
      "Requirement already satisfied: six>=1.5 in c:\\users\\amitp\\anaconda3\\envs\\gputest\\lib\\site-packages (from python-dateutil>=2.8.1->pandas) (1.16.0)\n",
      "Installing collected packages: pytz, pandas\n",
      "Successfully installed pandas-1.5.2 pytz-2022.6\n"
     ]
    }
   ],
   "source": [
    "!pip install pandas"
   ]
  },
  {
   "cell_type": "code",
   "execution_count": 79,
   "id": "ba8901aa",
   "metadata": {},
   "outputs": [],
   "source": [
    "import os\n",
    "import pandas as pd"
   ]
  },
  {
   "cell_type": "code",
   "execution_count": 127,
   "id": "53de310d",
   "metadata": {},
   "outputs": [],
   "source": [
    "data_train_t = np.load('Image_data.npy')\n",
    "labels_train_t = np.load('label_data.npy')\n"
   ]
  },
  {
   "cell_type": "code",
   "execution_count": 128,
   "id": "9906e48c",
   "metadata": {},
   "outputs": [
    {
     "name": "stdout",
     "output_type": "stream",
     "text": [
      "(8820,)\n"
     ]
    },
    {
     "data": {
      "text/plain": [
       "(90000, 8820)"
      ]
     },
     "execution_count": 128,
     "metadata": {},
     "output_type": "execute_result"
    }
   ],
   "source": [
    "print(labels_train_t.shape)\n",
    "data_train_t.shape\n"
   ]
  },
  {
   "cell_type": "code",
   "execution_count": 141,
   "id": "794da7fc",
   "metadata": {},
   "outputs": [],
   "source": [
    "from sklearn.preprocessing import LabelEncoder, OneHotEncoder\n",
    "from sklearn.compose import ColumnTransformer"
   ]
  },
  {
   "cell_type": "code",
   "execution_count": 168,
   "id": "fe24a3e3",
   "metadata": {},
   "outputs": [
    {
     "name": "stdout",
     "output_type": "stream",
     "text": [
      "(8820,)\n"
     ]
    }
   ],
   "source": [
    "y = labels_train_t\n",
    "y_labelencoder = LabelEncoder()\n",
    "y = y_labelencoder.fit_transform(y)\n",
    "print(y.shape)\n",
    "\n",
    "y = y.reshape(-1,1)\n",
    "#onehotencoder = OneHotEncoder(categorical_feature=[0])\n",
    "ct = ColumnTransformer([(\"Country\", OneHotEncoder(), [0])], remainder = 'passthrough')\n",
    "Y = ct.fit_transform(y)\n",
    "\n"
   ]
  },
  {
   "cell_type": "code",
   "execution_count": 166,
   "id": "69421af7",
   "metadata": {},
   "outputs": [
    {
     "name": "stdout",
     "output_type": "stream",
     "text": [
      "(8820, 10)\n"
     ]
    }
   ],
   "source": [
    "print(Y.shape)"
   ]
  },
  {
   "cell_type": "code",
   "execution_count": 129,
   "id": "d1d40e49",
   "metadata": {},
   "outputs": [
    {
     "name": "stdout",
     "output_type": "stream",
     "text": [
      "(5909, 100, 100, 1) (2911, 100, 100, 1) (5909,) (2911,)\n"
     ]
    }
   ],
   "source": [
    "##################### Resize and Reshape data for training in CNN #########\n",
    "\n",
    "data_train_t.shape\n",
    "D = 100\n",
    "X = np.transpose(data_train_t)\n",
    "S = int(np.sqrt(X.shape[-1]))\n",
    "X2 = np.array([ cv2.resize(x.reshape(S,S),(D,D)).reshape(D*D) for x in X ])\n",
    "train_full_data = X2.reshape(X.shape[0], D, D, 1)\n",
    "X_train, X_test, t_train, t_test = train_test_split(train_full_data, labels_train_t, test_size=0.33)\n",
    "\n",
    "print(X_train.shape, X_test.shape, t_train.shape, t_test.shape)\n",
    "\n",
    "#################################################################################\n",
    "\n",
    "\n"
   ]
  },
  {
   "cell_type": "code",
   "execution_count": null,
   "id": "e9625c61",
   "metadata": {},
   "outputs": [],
   "source": [
    "labels_names = ['x','square root','plus sign','negative sign',\n",
    "                'equal','percent','partial','product','pi','summation']"
   ]
  },
  {
   "cell_type": "code",
   "execution_count": null,
   "id": "a12f4e54",
   "metadata": {},
   "outputs": [],
   "source": [
    "imgname = \"1\"\n",
    "label = 1\n",
    "save_path = os.path.join(\"Dataset\",str(label),imgname+\".png\")\n",
    "print(save_path)"
   ]
  },
  {
   "cell_type": "code",
   "execution_count": null,
   "id": "357dd905",
   "metadata": {
    "scrolled": false
   },
   "outputs": [],
   "source": [
    "import math\n",
    "\n",
    "def class_visualization(label, X, t, class_names, figsize=(15,150)):\n",
    "\n",
    "    # Index locations where class label stored in data_train\n",
    "    sample_idx = np.where(t==label)[0]\n",
    "\n",
    "    #Number of samples in class label\n",
    "    N = len(sample_idx)\n",
    "\n",
    "    # settings for grid plot\n",
    "    grid_rows = math.ceil(N/10)\n",
    "    grid_columns = 10\n",
    "\n",
    "    # Plotting all images\n",
    "    plt.figure(figsize=figsize)\n",
    "    for i in range(N):\n",
    "        imgname = str(label)+'_'+str(i)\n",
    "        save_path = os.path.join(\"Dataset\",str(label),imgname+\".png\")\n",
    "        #plt.subplot(grid_rows, grid_columns, i+1)\n",
    "        #plt.imshow(X[:,sample_idx[i]].reshape(300,300), cmap='gray')\n",
    "        plt.imsave(save_path,X[:,sample_idx[i]].reshape(300,300), cmap='gray')\n",
    "        #plt.axis('off')\n",
    "        #plt.title(class_names[label]+'('+str(label)+'): '+str(sample_idx[i]));\n",
    "    print(\"finished\")\n",
    "\n",
    "for i in range(0,10):\n",
    "    class_visualization(i, data_train_t, labels_train_t, labels_names)"
   ]
  },
  {
   "cell_type": "code",
   "execution_count": null,
   "id": "bb6a4a21",
   "metadata": {},
   "outputs": [],
   "source": []
  },
  {
   "cell_type": "code",
   "execution_count": null,
   "id": "5501891b",
   "metadata": {},
   "outputs": [],
   "source": []
  },
  {
   "cell_type": "code",
   "execution_count": null,
   "id": "27d12a65",
   "metadata": {},
   "outputs": [],
   "source": []
  },
  {
   "cell_type": "code",
   "execution_count": null,
   "id": "cabd2f87",
   "metadata": {},
   "outputs": [],
   "source": []
  }
 ],
 "metadata": {
  "kernelspec": {
   "display_name": "Python 3 (ipykernel)",
   "language": "python",
   "name": "python3"
  },
  "language_info": {
   "codemirror_mode": {
    "name": "ipython",
    "version": 3
   },
   "file_extension": ".py",
   "mimetype": "text/x-python",
   "name": "python",
   "nbconvert_exporter": "python",
   "pygments_lexer": "ipython3",
   "version": "3.9.15"
  }
 },
 "nbformat": 4,
 "nbformat_minor": 5
}
